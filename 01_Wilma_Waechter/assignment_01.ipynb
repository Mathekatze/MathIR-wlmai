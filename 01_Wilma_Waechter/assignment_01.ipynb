{
 "cells": [
  {
   "cell_type": "code",
   "execution_count": 1,
   "id": "4773fed4",
   "metadata": {},
   "outputs": [
    {
     "name": "stdout",
     "output_type": "stream",
     "text": [
      "Please enter your name: Wilms\n",
      "Hello Wilms, nice to meet you!\n",
      "Welcome to the programming course!\n"
     ]
    }
   ],
   "source": [
    "#Task 1\n",
    "def welcome():\n",
    "    name = input('Please enter your name: ')\n",
    "    print(f'Hello {name}, nice to meet you!')\n",
    "    print('Welcome to the programming course!')\n",
    "    return\n",
    "welcome()"
   ]
  },
  {
   "cell_type": "code",
   "execution_count": 3,
   "id": "1fe22868",
   "metadata": {},
   "outputs": [
    {
     "name": "stdout",
     "output_type": "stream",
     "text": [
      "Enter word to reverse: hello\n"
     ]
    },
    {
     "data": {
      "text/plain": [
       "'olleh'"
      ]
     },
     "execution_count": 3,
     "metadata": {},
     "output_type": "execute_result"
    }
   ],
   "source": [
    "#Task 2\n",
    "def reversedWords():\n",
    "    word = input('Enter word to reverse: ')\n",
    "    return word[::-1]\n",
    "\n",
    "reversedWords()"
   ]
  },
  {
   "cell_type": "code",
   "execution_count": 28,
   "id": "0c3ffbba",
   "metadata": {},
   "outputs": [
    {
     "name": "stdout",
     "output_type": "stream",
     "text": [
      "Enter integer up to which the fibonacci numbers shall be printed: 89\n",
      "0, 1, 1, 2, 3, 5, 8, 13, 21, 34, 55, "
     ]
    }
   ],
   "source": [
    "#Task 3\n",
    "def fibonacci():\n",
    "    try:\n",
    "        n = int(input('Enter integer up to which the fibonacci numbers shall be printed: '))\n",
    "        F_n_2, F_n_1 = 0, 1\n",
    "        print(f'{F_n_2}, {F_n_1}, ', sep=' ', end='', flush=True )\n",
    "        while F_n_1 + F_n_2 < n:\n",
    "            print(f'{F_n_2 + F_n_1}, ', sep=' ', end='', flush=True)\n",
    "            F_n_2, F_n_1 = F_n_1, F_n_2 + F_n_1\n",
    "        return\n",
    "    except:\n",
    "        print('Please enter an integer')\n",
    "\n",
    "\n",
    "fibonacci()\n"
   ]
  },
  {
   "cell_type": "code",
   "execution_count": 19,
   "id": "84f15924",
   "metadata": {},
   "outputs": [
    {
     "name": "stdout",
     "output_type": "stream",
     "text": [
      "Please enter integer up to which shall be printed except the numbers divisible by 3: 89\n",
      "1, 2, 4, 5, 7, 8, 10, 11, 13, 14, 16, 17, 19, 20, 22, 23, 25, 26, 28, 29, 31, 32, 34, 35, 37, 38, 40, 41, 43, 44, 46, 47, 49, 50, 52, 53, 55, 56, 58, 59, 61, 62, 64, 65, 67, 68, 70, 71, 73, 74, 76, 77, 79, 80, 82, 83, 85, 86, 88, 89, "
     ]
    }
   ],
   "source": [
    "#Task 4\n",
    "def selectivePrinting():\n",
    "    n = int(input('Please enter integer up to which shall be printed except the numbers divisible by 3: '))\n",
    "    for i in range(n + 1):\n",
    "        if i % 3 == 0: \n",
    "            continue\n",
    "        else: \n",
    "            print(f'{i}, ', sep=' ', end='', flush=True)\n",
    "    return\n",
    "\n",
    "selectivePrinting()"
   ]
  },
  {
   "cell_type": "code",
   "execution_count": 37,
   "id": "a42e49c9",
   "metadata": {},
   "outputs": [
    {
     "name": "stdout",
     "output_type": "stream",
     "text": [
      "Please enter the 3 lengths of the sides of your triangle. They should be seperated by a white space.  1 4 9\n",
      "Your triangle is scalene\n",
      "The triangle inequality does not hold.\n"
     ]
    }
   ],
   "source": [
    "#Task 5\n",
    "def triangleChecking():\n",
    "    try:\n",
    "        x, y, z = input(\n",
    "            'Please enter the 3 lengths of the sides of your triangle. They should be seperated by a white space after each integer.  ').split()\n",
    "        x, y, z = int(x), int(y), int(z)\n",
    "        if x == y and y == z:\n",
    "            print('Your triangle is equilateral.')\n",
    "\n",
    "        elif x == y or y == z:\n",
    "            print('Your triangle is isosceles.')\n",
    "        else:\n",
    "            print('Your triangle is scalene.')\n",
    "        if 2 * max(x, y, z) < x + y + z:\n",
    "            print('The triangle inequality holds.')\n",
    "        else:\n",
    "            print('The triangle inequality does not hold.')\n",
    "    except:\n",
    "        print('Please enter a valid input. Input must be 3 integers seperated by a white space each.')\n",
    "\n",
    "\n",
    "triangleChecking()"
   ]
  },
  {
   "cell_type": "code",
   "execution_count": 4,
   "id": "67017b3c",
   "metadata": {},
   "outputs": [
    {
     "name": "stdout",
     "output_type": "stream",
     "text": [
      "Please enter a number in decimal to be converted to octal: 33\n"
     ]
    },
    {
     "data": {
      "text/plain": [
       "11.10204081632653"
      ]
     },
     "execution_count": 4,
     "metadata": {},
     "output_type": "execute_result"
    }
   ],
   "source": [
    "#Task 6\n",
    "def decimalToOctal():\n",
    "    try:\n",
    "        n = int(input('Please enter a number in decimal to be converted to octal: '))\n",
    "        tmpArr = []\n",
    "        while n > 0:\n",
    "            tmpArr.append(n % 8)\n",
    "            n = n // 8\n",
    "        # declaring the as decimal place as multiplicator for the result and initializing with value for first loop pass\n",
    "        # declaring result variable and initializing with the neutral element under addition\n",
    "        decimalPlace = 1\n",
    "        result = 0\n",
    "        for j in range(len(tmpArr)):\n",
    "            result += tmpArr[j] * decimalPlace\n",
    "            decimalPlace *= 10\n",
    "        return result\n",
    "\n",
    "    except:\n",
    "        print('Please enter a valid input. Input must be an integer.')\n",
    "\n",
    "\n",
    "print(decimalToOctal())\n"
   ]
  },
  {
   "cell_type": "code",
   "execution_count": null,
   "id": "e7543af5",
   "metadata": {},
   "outputs": [],
   "source": []
  }
 ],
 "metadata": {
  "kernelspec": {
   "display_name": "Python 3 (ipykernel)",
   "language": "python",
   "name": "python3"
  },
  "language_info": {
   "codemirror_mode": {
    "name": "ipython",
    "version": 3
   },
   "file_extension": ".py",
   "mimetype": "text/x-python",
   "name": "python",
   "nbconvert_exporter": "python",
   "pygments_lexer": "ipython3",
   "version": "3.10.6"
  }
 },
 "nbformat": 4,
 "nbformat_minor": 5
}
